{
 "cells": [
  {
   "cell_type": "code",
   "execution_count": 1,
   "id": "c899dd89-5147-44d7-b7b5-47505fc6213e",
   "metadata": {},
   "outputs": [
    {
     "data": {
      "application/vnd.jupyter.widget-view+json": {
       "model_id": "f6b86fdfe7324e49a7977448afaef757",
       "version_major": 2,
       "version_minor": 0
      },
      "text/plain": []
     },
     "metadata": {},
     "output_type": "display_data"
    }
   ],
   "source": [
    "# Import packages\n",
    "import os\n",
    "import nglview as ng\n",
    "import mdtraj as md\n",
    "import numpy as np\n",
    "import matplotlib.pyplot as plt"
   ]
  },
  {
   "cell_type": "markdown",
   "id": "b27b68ab-56d9-4d8a-8c98-e8d3b6c25139",
   "metadata": {},
   "source": [
    "## **Part1: Ibuprofen in water**"
   ]
  },
  {
   "cell_type": "markdown",
   "id": "d62c4fef-4374-4845-9c3d-bb0b2ddaae73",
   "metadata": {},
   "source": [
    "We start by simulating ibuprofen molecule in water. We build and simulate an extremely simple system to understand the workflow of MD simulations with GROMACS and how the theory connects to practice. \n",
    "\n",
    "Before we can start with the simulations, we will need the following files:\n",
    "- Atom positions (.pdb, .gro)\n",
    "- Topology and force field (.itp, .top)\n",
    "- Simulation parameters (.mdp)"
   ]
  },
  {
   "cell_type": "code",
   "execution_count": null,
   "id": "8ffbc20a-979f-4718-a086-a085b2258df8",
   "metadata": {},
   "outputs": [],
   "source": [
    "# Move to the working directory for the ibuprofen simulations\n",
    "os.chdir('../simulations/ibuprofen_in_water/')"
   ]
  },
  {
   "cell_type": "markdown",
   "id": "11a77d66-83df-40a9-aaee-e913e080a45d",
   "metadata": {},
   "source": [
    "### 1.1 Building the system"
   ]
  },
  {
   "cell_type": "markdown",
   "id": "3bb4726d-0770-4ffb-a3fd-b8aafe9921be",
   "metadata": {},
   "source": [
    "The SMILES for ibuprofen has been obtained from [PubChem](https://pubchem.ncbi.nlm.nih.gov/compound/Ibuprofen). The CHARMM-GUI [Ligand Reader & Modeler](https://doi.org/10.1002/jcc.24829) was utilized for generating the 3D structure file, topology and force field paramaters used in the following simulations to model ibuprofen.\n",
    "\n",
    "- **NOTE**: Obtaining the 3D starting structure for larger biomolecules, such as proteins, is more complex. In these cases, [Protein Data Bank](https://www.rcsb.org/) can be used for obtaining structures determined experimentally through crystallography and NMR. For example, in the [Introductory tutorial](https://tutorials.gromacs.org/md-intro-tutorial.html), the crystal structure for a protein is obtained from Protein Data Bank and subsequently cleaned before starting the simulations. "
   ]
  },
  {
   "cell_type": "markdown",
   "id": "e7481fb3-8aa9-4ef6-a601-21c0d077bd4f",
   "metadata": {},
   "source": [
    "#### Understanding the structure file"
   ]
  },
  {
   "cell_type": "markdown",
   "id": "fa833a3b-3131-4c0b-b4f0-5abc854cfcbc",
   "metadata": {},
   "source": [
    "Let's start building our system using the 3D structure of ibuprofen. We can use nglview to visualize the structure file (.gro)."
   ]
  },
  {
   "cell_type": "code",
   "execution_count": null,
   "id": "9ec78726-8606-413d-b509-f5aa74054891",
   "metadata": {},
   "outputs": [],
   "source": [
    "# Visualize the 3D structure (zoom by scrolling, rotate by dragging)\n",
    "!cp 'inputs/IBU.gro' .\n",
    "view = ng.show_file('IBU.gro')\n",
    "view"
   ]
  },
  {
   "cell_type": "markdown",
   "id": "9077b8f2-edf4-4f69-accd-ddbd1276dad7",
   "metadata": {},
   "source": [
    "If we look at the structure file as plain text, we see that GROMACS structure files are in .gro format, which follows always follows the format:\n",
    "- Title of the structure file\n",
    "- Number of atoms\n",
    "- Each atom on separate lines\n",
    "- Box vectors"
   ]
  },
  {
   "cell_type": "code",
   "execution_count": null,
   "id": "c4892d33-cae5-4cc6-8f82-a9729c4aa726",
   "metadata": {
    "scrolled": true
   },
   "outputs": [],
   "source": [
    "# Print the first five rows in the structure file\n",
    "!head -5 'IBU.gro'"
   ]
  },
  {
   "cell_type": "markdown",
   "id": "8ea52cc0-5b96-449a-b92c-70f3198ee81d",
   "metadata": {},
   "source": [
    "We see that each atom belong to **residue(s)**. Each line contains residue number (1), residue name (IBU), atom name, atom number, and atom xyz coordinates. Additionally the gro file can contain information about velocity.\n",
    "\n",
    "If we print out the last line of the .gro file, we can see that is empty. That is because we have not defined the simulation box, so let's do that next."
   ]
  },
  {
   "cell_type": "code",
   "execution_count": null,
   "id": "0c74f93f-f572-42ae-9b4f-de490a49831b",
   "metadata": {},
   "outputs": [],
   "source": [
    "!tail -1 'IBU.gro'"
   ]
  },
  {
   "cell_type": "markdown",
   "id": "531003fb-115c-4b47-9104-fd0f0d7bea1c",
   "metadata": {},
   "source": [
    "#### Build the simulation box"
   ]
  },
  {
   "cell_type": "markdown",
   "id": "1cc3a765-642c-4c45-b1d0-315a28cc0e66",
   "metadata": {},
   "source": [
    "Next, we have to build the simulation box for our molecule. In this case, we center the molecule (**-c**), build a cubic box (**-bt cubic**) and then determine the box size so that the molecule is 1.0 nm from the box edge (**-d 1.0**)."
   ]
  },
  {
   "cell_type": "code",
   "execution_count": null,
   "id": "afec7ad5-3bf9-4c9b-a97b-503ff6ef0fe1",
   "metadata": {},
   "outputs": [],
   "source": [
    "# Generate a simulation box\n",
    "!gmx editconf -f IBU.gro -o IBU_box.gro -c -bt cubic -d 1.0"
   ]
  },
  {
   "cell_type": "markdown",
   "id": "8d8dcf7c-80b6-475c-a85f-4c78a1fa120d",
   "metadata": {},
   "source": [
    "------------------------------------------------------------------------------------------------------------------\n",
    "**<font color='red'>Question:</font>** Why do we set the distance between ibuprofen and the box edge?\n",
    "\n",
    "<details>\n",
    "  <summary><strong>Click to answer:</strong></summary>\n",
    "  <p> Determining large enough box size is crucial. We do this to prevent the molecule from interacting with its periodic image. </p>\n",
    "</details> \n",
    "<br>\n",
    "\n",
    "**<font color='red'>EXTRA:</font>** Why do we set the distance to 1.0 nm?\n",
    "\n",
    "<details>\n",
    "  <summary><strong>Click to answer:</strong></summary>\n",
    "  <p> We will use CHARMM36m force field with cut-off for non-bonded interactions at 1.2 nm. Due to the periodic boundary conditions, there will be 2 x 1.0 nm between two periodic images and thus -d 1.0 is sufficient.</p>\n",
    "</details>\n",
    "\n",
    "------------------------------------------------------------------------------------------------------------------"
   ]
  },
  {
   "cell_type": "markdown",
   "id": "0a7fac97-26b5-4fc0-8fcb-89ad31c2599d",
   "metadata": {},
   "source": [
    "If we print the last line from the newly generated .gro file, we see that 0 0 0 has been replaced by box vectors:"
   ]
  },
  {
   "cell_type": "code",
   "execution_count": null,
   "id": "22a458ec-ab0a-450b-a4c3-e93aecfc93bf",
   "metadata": {},
   "outputs": [],
   "source": [
    "!tail -1 'IBU_box.gro'"
   ]
  },
  {
   "cell_type": "markdown",
   "id": "8cfaa3ab-6084-49b4-a47f-bbe4188f9f1b",
   "metadata": {},
   "source": [
    "#### Solvate"
   ]
  },
  {
   "cell_type": "markdown",
   "id": "7d7d8735-dff8-4c75-a446-0d3657386397",
   "metadata": {},
   "source": [
    "Now that we have the simulation box, we can will it with water molecules and save the output coordinates into a new .gro file."
   ]
  },
  {
   "cell_type": "code",
   "execution_count": null,
   "id": "98c839fe-a02d-4b5e-9af3-4361a05c5413",
   "metadata": {},
   "outputs": [],
   "source": [
    "# Copy the topology starting file\n",
    "!cp 'inputs/topol.top' . \n",
    "\n",
    "# Add water\n",
    "!gmx solvate -cp IBU_box.gro -cs spc216.gro -o IBU_solvated.gro -p topol.top "
   ]
  },
  {
   "cell_type": "markdown",
   "id": "1b32bf31-1308-464f-a31d-b683b4ef8b4e",
   "metadata": {},
   "source": [
    "------------------------------------------------------------------------------------------------------------------\n",
    "**<font color='red'>Question:</font>** Look at the output of gmx solvate: how many lines do you think were added to the .gro file?\n",
    "\n",
    "<details>\n",
    "  <summary><strong>Click to answer:</strong></summary>\n",
    "  <p> The output says ''Generated solvent containing 2733 atoms in 911 residues'', thus 2733 new lines were added to the .gro file, one for each atom </p>\n",
    "</details> \n",
    "\n",
    "------------------------------------------------------------------------------------------------------------------"
   ]
  },
  {
   "cell_type": "markdown",
   "id": "4211004d-e704-4b43-b675-7a59668687d6",
   "metadata": {},
   "source": [
    "#### Add ions"
   ]
  },
  {
   "cell_type": "markdown",
   "id": "7cfda8fb-b502-4474-8c30-a5c0de62bbfe",
   "metadata": {},
   "source": [
    "Next, we will use **gmx genion** tool to add ions to the system. Since gmx genion needs portable binary run input file (.tpr), we need to use another tool, **gmx grompp**, to process structure file (.gro), topology (.top) and an empty simulation parameter file (.mdp) into a tpr file.  \n",
    "\n",
    "Once we have the binary run input file, we use gmx genion to select ion concentration as 0.15 M, and add potassium and chloride ions to produce neutral charge. "
   ]
  },
  {
   "cell_type": "code",
   "execution_count": null,
   "id": "43a129ef-488e-417f-9126-efb186969921",
   "metadata": {},
   "outputs": [],
   "source": [
    "# Create empty simulation parameter file\n",
    "!touch empty.mdp\n",
    "\n",
    "# Grompp, ignore warnings caused by the empty mdp file\n",
    "!gmx grompp -f empty.mdp -c IBU_solvated.gro -p topol.top -o genion.tpr -maxwarn 1"
   ]
  },
  {
   "cell_type": "code",
   "execution_count": null,
   "id": "1659b5a8-131f-47b9-b024-cf06c30ab493",
   "metadata": {},
   "outputs": [],
   "source": [
    "# Replace water molecules with ions to produce charge neutral system with 0.15 M KCl concentration\n",
    "!printf \"SOL\\n\" | gmx genion -s genion.tpr -o IBU_solvated_ions.gro -conc 0.15 -p topol.top -pname K -nname CL -neutral"
   ]
  },
  {
   "cell_type": "markdown",
   "id": "ee2f31d3-4b4b-47f7-9151-bfc4dfb121c2",
   "metadata": {},
   "source": [
    "Now our starting structure is ready!"
   ]
  },
  {
   "cell_type": "code",
   "execution_count": null,
   "id": "902898f1-7aaa-47da-bd13-3f74971c17de",
   "metadata": {},
   "outputs": [],
   "source": [
    "# Visualize the 3D structure\n",
    "view = ng.show_file('IBU_solvated_ions.gro')\n",
    "view.add_point()\n",
    "view"
   ]
  },
  {
   "cell_type": "markdown",
   "id": "c28563a2-b19a-4fc5-aa12-7c77962f39ec",
   "metadata": {},
   "source": [
    "### 1.2 Understanding the topology and the force field files"
   ]
  },
  {
   "cell_type": "markdown",
   "id": "37d542a8-7386-444c-bd11-8216483a3f73",
   "metadata": {},
   "source": [
    "Before we can start with the simulations, we need to define how the atoms interact with each other.\n",
    "\n",
    "Our goal is to simulate drug-membrane interactions with CHARMM36m chosen as the force field for the lipids. Therefore, a compatible CHARMM General Forcefield [(**CGenFF**)](https://doi.org/10.1002/jcc.21367) was chosen to model ibuprofen. The force field parameters for ibuprofen were obtained using CHARMM-GUI's Ligand Reader & Modeler, which uses [the CGenFF tool](https://doi.orgdoi/10.1021/ci3003649). For water, we use CHARMM-compatible TIP3P water model. For more information about topology files, see the [GROMACS manual](https://manual.gromacs.org/2024.5/reference-manual/topologies/topology-file-formats.html#tab-topfile2).\n",
    "\n",
    "Let's look at the topology file for our system:"
   ]
  },
  {
   "cell_type": "code",
   "execution_count": null,
   "id": "9bdb3f4f-b76b-432e-9e6d-c9795ac85b8f",
   "metadata": {},
   "outputs": [],
   "source": [
    "!cat 'topol.top'"
   ]
  },
  {
   "cell_type": "markdown",
   "id": "70a32a33-9a70-4c26-bad4-b4d39d648fa7",
   "metadata": {},
   "source": [
    "------------------------------------------------------------------------------------------------------------------\n",
    "We include the contents of a bunch of other files using #include. For the topology to work as expected, we have to first include the force field file, **forcefield.itp**. This file contains the atom types in your system, as well as bonded and nonbonded parameters. \n",
    "\n",
    "The atom types will have four static properties:    \n",
    "- mass in atomic mass units\n",
    "- partial charge\n",
    "- Lennard-Jones parameters sigma (σ, nm) and epsilon (ε, kJ/mol)\n",
    "\n",
    "After the atom types, the forcefield.itp lists parameters for bonds, pairs, angles and dihedrals these atoms in your system. \n",
    "\n",
    "------------------------------------------------------------------------------------------------------------------"
   ]
  },
  {
   "attachments": {
    "9175bfd3-094e-48fc-bc5e-fee429f3661d.png": {
     "image/png": "[encoded data removed]"
    }
   },
   "cell_type": "markdown",
   "id": "2eb8648d-2bea-492a-af38-86916433dfe2",
   "metadata": {},
   "source": [
    "![potential.png](attachment:9175bfd3-094e-48fc-bc5e-fee429f3661d.png)"
   ]
  },
  {
   "cell_type": "markdown",
   "id": "d63ac307-b8fd-4a76-ab93-f743e1076a7d",
   "metadata": {},
   "source": [
    "------------------------------------------------------------------------------------------------------------------\n",
    "The molecular topology files (e.g., **IBU.itp**) contain information about:\n",
    "- Molecule type (molecule name and how many bonds away the atoms will be excluded from non-bonded interactions)\n",
    "- Atom info, including partial charges and mass (NOTE: The atom order has to be the same as in the .gro file!!!)\n",
    "- Information about which atoms form pairs, bonds, angles and dihedrals\n",
    "- (information about position restraints)\n",
    "\n",
    "Take a look at the atom info and the first 5 bonds defined in the IBU.itp file:\n",
    "\n",
    "------------------------------------------------------------------------------------------------------------------"
   ]
  },
  {
   "cell_type": "code",
   "execution_count": null,
   "id": "b1cc0b3c-a075-495b-be11-80f6480417f4",
   "metadata": {},
   "outputs": [],
   "source": [
    "# Atom info\n",
    "!grep \"atoms\" -A 34 toppar/IBU.itp \n",
    "!echo \"\"\n",
    "# First 5 bonds\n",
    "!grep \"bonds\" -A 5 toppar/IBU.itp"
   ]
  },
  {
   "cell_type": "markdown",
   "id": "4ac773ed-b5c8-4443-b57b-7cf83baf82da",
   "metadata": {},
   "source": [
    "**<font color='red'>Question:** Look at the second bond defined in the IBU.itp under [ bonds ]. \n",
    "- What are the names of the atoms forming the bond?\n",
    "- What about their atom types?\n",
    "\n",
    "<details>\n",
    "  <summary><strong>Click to answer:</strong></summary>\n",
    "  <p> Atom names: C1-H1, atom types: CG331-HGA3 </p>\n",
    "</details> \n"
   ]
  },
  {
   "cell_type": "code",
   "execution_count": null,
   "id": "db81d6fc-8ff2-4c84-b10d-7249b67f8ee5",
   "metadata": {},
   "outputs": [],
   "source": [
    "# If you want to take a look at the force field file, uncomment the next line by deleting #\n",
    "#!cat toppar/forcefield.itp"
   ]
  },
  {
   "cell_type": "code",
   "execution_count": null,
   "id": "c878fdab-6327-4941-baf6-5ca482c33611",
   "metadata": {},
   "outputs": [],
   "source": [
    "# If you want to take a look at the topology file, uncomment the next line by deleting #\n",
    "#!cat toppar/IBU.itp"
   ]
  },
  {
   "cell_type": "markdown",
   "id": "fe4a25d7-ea30-4b57-b37f-6c754cb0ac20",
   "metadata": {},
   "source": [
    "### Simulations"
   ]
  },
  {
   "cell_type": "markdown",
   "id": "16c803aa-92ec-4753-88e2-6f698d901ae5",
   "metadata": {},
   "source": [
    "#### Energy minimization"
   ]
  },
  {
   "attachments": {
    "7d565a37-9a02-4372-857b-44154f2ebdea.png": {
     "image/png": "[encoded data removed]"
    }
   },
   "cell_type": "markdown",
   "id": "e2c93468-a689-4b8e-a665-99140a579be8",
   "metadata": {},
   "source": [
    "![em.png](attachment:7d565a37-9a02-4372-857b-44154f2ebdea.png)"
   ]
  },
  {
   "cell_type": "markdown",
   "id": "b60fd1c9-caa9-41d0-8724-37031323351a",
   "metadata": {},
   "source": [
    "Before doing actual MD simulations, we need to get the potential energy $U(\\vec{r}^N)$ smaller. For this, we will use the **steepest descent** algorithm. Let's look at the simulation parameters for the energy minimization in em.mdp:"
   ]
  },
  {
   "cell_type": "code",
   "execution_count": null,
   "id": "88422f3e-daa1-47c5-9942-5e6a4a28927a",
   "metadata": {},
   "outputs": [],
   "source": [
    "em_parameters='inputs/em.mdp'\n",
    "!cat $em_parameters"
   ]
  },
  {
   "cell_type": "markdown",
   "id": "3343498a-e598-4648-813c-2419f3736766",
   "metadata": {
    "jp-MarkdownHeadingCollapsed": true
   },
   "source": [
    "------------------------------------------------------------------------------------------------------------------\n",
    "**<font color='red'>Question:</font>** Which parameter defines when the energy minimization stops?\n",
    "\n",
    "<details>\n",
    "  <summary><strong>Answer:</strong></summary>\n",
    "  <p>Energy minimization will go on for maximum number of 5000 steps (nsteps = 5000); it will stop if the maximumn force in the system is smaller than 1000 kJ mol-1 nm-1 (emtol = 1000.0). </p>\n",
    "</details>\n",
    "\n",
    "------------------------------------------------------------------------------------------------------------------"
   ]
  },
  {
   "cell_type": "markdown",
   "id": "e2faae4a-d408-4b75-959c-bda2da524a22",
   "metadata": {},
   "source": [
    "Now we have all necessary files to run the energy minimization. Before we can set off the minimization, we have to generate a binary run input file (.tpr) via **gmx grompp**. Then we start the minimization with **gmx mdrun**."
   ]
  },
  {
   "cell_type": "code",
   "execution_count": null,
   "id": "41f3361c-f240-48c8-b13e-612dd7271e9e",
   "metadata": {},
   "outputs": [],
   "source": [
    "# grompp\n",
    "!gmx grompp -f $em_parameters -c IBU_solvated_ions.gro -p topol.top -o em.tpr"
   ]
  },
  {
   "cell_type": "code",
   "execution_count": null,
   "id": "714c226b-6aaa-4670-a6d9-2df07548c3c1",
   "metadata": {},
   "outputs": [],
   "source": [
    "# Start the energy minimization\n",
    "!gmx mdrun -deffnm em -v"
   ]
  },
  {
   "cell_type": "markdown",
   "id": "a5502478-8ff0-45c6-9e02-93d6ad2d2949",
   "metadata": {},
   "source": [
    "Since we used -deffnm option, all output files will have a default file name \"em\":"
   ]
  },
  {
   "cell_type": "code",
   "execution_count": null,
   "id": "e5d1e9ef-5c5e-45c4-8614-32c710d2f815",
   "metadata": {},
   "outputs": [],
   "source": [
    "# List all files starting with em\n",
    "!ls em*"
   ]
  },
  {
   "cell_type": "markdown",
   "id": "9bac1225-150d-4f0c-aca1-4a7a9bd1aeb6",
   "metadata": {},
   "source": [
    "Let's analyze the potential energy from the portable energy file (em.edr) using gmx energy. "
   ]
  },
  {
   "cell_type": "code",
   "execution_count": null,
   "id": "7b660bcf-4a55-4a3f-83b3-bb88a9e2feaa",
   "metadata": {},
   "outputs": [],
   "source": [
    "# Get the potential energy from the gromacs energy file\n",
    "!printf \"Potential\\n0\\n\" | gmx energy -f em.edr -o em_pot.xvg -xvg none\n",
    "\n",
    "# Plot\n",
    "DATA = np.loadtxt('em_pot.xvg')\n",
    "\n",
    "step = DATA[:,0]\n",
    "energy = DATA[:,1]\n",
    "\n",
    "plt.plot(step, energy)\n",
    "plt.title('Potential energy')\n",
    "plt.xlabel('Step')\n",
    "plt.ylabel('Energy (kJ/mol)')"
   ]
  },
  {
   "cell_type": "markdown",
   "id": "b41e4043-9b0e-41c3-b5b6-b6fdfe115df5",
   "metadata": {},
   "source": [
    "#### Equilibration (NVT)"
   ]
  },
  {
   "cell_type": "markdown",
   "id": "32fb26c0-a2a7-4598-a8c3-a6ffeba855df",
   "metadata": {},
   "source": [
    "Now we can start simulating the dynamics! Sometimes it's a good idea to first add temperature to the system, i.e., perform the simulation under canonical ensemble. Let's look at the simulation parameters:"
   ]
  },
  {
   "cell_type": "code",
   "execution_count": null,
   "id": "d75a8475-2134-4847-934e-01d2ffef2e8c",
   "metadata": {},
   "outputs": [],
   "source": [
    "nvt_parameters='inputs/nvt.mdp'\n",
    "!cat $nvt_parameters"
   ]
  },
  {
   "cell_type": "markdown",
   "id": "b1cf84df-efb6-4a3a-9bcd-ee6d21dfe92d",
   "metadata": {},
   "source": [
    "Grompp similar to the previous step with the energy minimization:"
   ]
  },
  {
   "cell_type": "code",
   "execution_count": null,
   "id": "2d9b8874-a946-428f-a5ad-b1797b8000f0",
   "metadata": {},
   "outputs": [],
   "source": [
    "!gmx grompp -f $nvt_parameters -c em.gro -p topol.top -o nvt.tpr"
   ]
  },
  {
   "cell_type": "code",
   "execution_count": null,
   "id": "62aa795c-ab40-40b0-aaf4-cce2718658f7",
   "metadata": {},
   "outputs": [],
   "source": [
    "# Start the energy minimization\n",
    "!gmx mdrun -deffnm nvt -v "
   ]
  },
  {
   "cell_type": "markdown",
   "id": "617cffcb-43e3-4dc5-8c0e-354edcb08353",
   "metadata": {},
   "source": [
    "------------------------------------------------------------------------------------------------------------------\n",
    "The run will take approximately 5-6 minutes. Meanwhile, let's look at some of the run parameters:\n",
    "\n",
    "- **integrator = md** ; use leap-frog algorithm for integrating the Newton’s equations of motion\n",
    "- **tcoupl = v-rescale** ; temperature coupling using velocity rescaling with a stochastic term, time constant and target temperature are set separately\n",
    "- **gen-vel = yes** ; generate velocities with Maxwell distribution at temperature gen-temp (which is 310.15 K in our case)\n",
    "\n",
    "------------------------------------------------------------------------------------------------------------------"
   ]
  },
  {
   "cell_type": "markdown",
   "id": "02b819d6-992b-4b76-8601-c3d51e77aa06",
   "metadata": {},
   "source": [
    "Let's visualize our simulation:"
   ]
  },
  {
   "cell_type": "code",
   "execution_count": null,
   "id": "d8e01761-44d8-4e30-b5ba-68e935ecec5a",
   "metadata": {},
   "outputs": [],
   "source": [
    "# Load trajectory \n",
    "traj = md.load('nvt.xtc', top='nvt.gro')\n",
    "\n",
    "# View trajectory\n",
    "view = ng.show_mdtraj(traj)\n",
    "view.add_point()\n",
    "view.center()\n",
    "view.camera='orthographic'\n",
    "view.add_unitcell()\n",
    "view"
   ]
  },
  {
   "cell_type": "markdown",
   "id": "a2303f2f-9815-4f0f-bfa6-0d5bf93cd5ed",
   "metadata": {},
   "source": [
    "We can then check the convergence of temperature using the gmx energy tool and the energy file:"
   ]
  },
  {
   "cell_type": "code",
   "execution_count": null,
   "id": "e97c020b-adcb-45ec-8167-b660f7d760dd",
   "metadata": {},
   "outputs": [],
   "source": [
    "# Use the gmx energy to analyze temperature information\n",
    "!printf \"Temperature\\n0\\n\" | gmx energy -f nvt.edr -o nvt_temperature.xvg -xvg none\n",
    "\n",
    "# Plot\n",
    "DATA = np.loadtxt('nvt_temperature.xvg')\n",
    "\n",
    "time = DATA[:,0]\n",
    "temperature= DATA[:,1]\n",
    "\n",
    "plt.plot(time, temperature)\n",
    "plt.title('Temperature during a simulation under an NVT ensemble')\n",
    "plt.xlabel('Time (ps)')\n",
    "plt.ylabel('Temperature (K)')"
   ]
  },
  {
   "cell_type": "markdown",
   "id": "a37e4940-fc18-4c55-8210-81150d75ab90",
   "metadata": {},
   "source": [
    "#### More equilibration under an NPT ensemble and the production run"
   ]
  },
  {
   "cell_type": "markdown",
   "id": "878d6466-b0b0-4cc8-af74-1ac5656cf0f0",
   "metadata": {},
   "source": [
    "Now we can move on to the "
   ]
  },
  {
   "cell_type": "code",
   "execution_count": null,
   "id": "bc8fcbd8-12e1-43a4-9c1a-7d171caac762",
   "metadata": {},
   "outputs": [],
   "source": [
    "npt_parameters='inputs/production.mdp'\n",
    "!cat $npt_parameters"
   ]
  },
  {
   "cell_type": "code",
   "execution_count": null,
   "id": "db831d89-00df-46c5-81d9-59953f7b3c25",
   "metadata": {},
   "outputs": [],
   "source": [
    "!gmx grompp -f production.mdp -c nvt.gro -t nvt.cpt -p topol.top -o npt.tpr"
   ]
  },
  {
   "cell_type": "markdown",
   "id": "61ded08f-bd77-4021-86e7-28e328c634f7",
   "metadata": {},
   "source": [
    "Only execute the next cell if you want to simulate the system yourself. "
   ]
  },
  {
   "cell_type": "code",
   "execution_count": null,
   "id": "a84ab25c-9c2a-48e0-8282-166993ce67e0",
   "metadata": {},
   "outputs": [],
   "source": [
    "#!gmx mdrun -deffnm npt -nsteps 50000 -v"
   ]
  },
  {
   "cell_type": "markdown",
   "id": "ec46e2d8-97b4-473c-a3cc-15ae915616a1",
   "metadata": {},
   "source": [
    "To save time, we can visualize simulations that have been prior the practical session."
   ]
  },
  {
   "cell_type": "code",
   "execution_count": null,
   "id": "8a09973b-0211-4437-b28f-0cc5660bd794",
   "metadata": {},
   "outputs": [],
   "source": [
    "# Define file paths for a 10 ns simulation\n",
    "ibu_edr='ibu_full_simulation/run_IBU_solvated_ions.edr'\n",
    "ibu_tpr='ibu_full_simulation/run_IBU_solvated_ions.tpr'\n",
    "ibu_xtc='ibu_full_simulation/run_IBU_solvated_ions.xtc'\n",
    "ibu_gro='ibu_full_simulation/run_IBU_solvated_ions.gro'\n",
    "\n",
    "# Make molecules whole again (they will still jump across the pbc)\n",
    "!printf \"0\\n\" | gmx trjconv -s $ibu_tpr -f $ibu_xtc -o ibu_nopbc.xtc -pbc mol"
   ]
  },
  {
   "cell_type": "code",
   "execution_count": null,
   "id": "8fcb3bd7-290f-4142-ab31-c3e30531c5cc",
   "metadata": {},
   "outputs": [],
   "source": [
    "# Load trajectory\n",
    "traj = md.load('ibu_nopbc.xtc', top=ibu_gro)\n",
    "\n",
    "# View with nglview\n",
    "view = ng.show_mdtraj(traj)\n",
    "view.add_point()\n",
    "view.center()\n",
    "view.camera='orthographic'\n",
    "view.add_unitcell()\n",
    "view"
   ]
  },
  {
   "cell_type": "markdown",
   "id": "07a9a11d-c076-41ba-8c36-b4be9f237406",
   "metadata": {},
   "source": [
    "Now that we have been simulating the simulation under NPT ensemble, we can obtain the pressure of the system during the simulation. \n",
    "We will see that the pressure fluctuates quite a bit; this is normal and expected."
   ]
  },
  {
   "cell_type": "code",
   "execution_count": null,
   "id": "73cd3501-b388-4671-b375-d57b966f127a",
   "metadata": {},
   "outputs": [],
   "source": [
    "# Get the pressure term in the system over time\n",
    "!printf \"Pressure\\n0\\n\" | gmx energy -f $ibu_edr -o npt_pressure.xvg -xvg none\n",
    "\n",
    "# Plot\n",
    "DATA = np.loadtxt('npt_pressure.xvg')\n",
    "\n",
    "time = DATA[:,0]\n",
    "pressure= DATA[:,1]\n",
    "\n",
    "plt.plot(time, pressure)\n",
    "plt.title('Pressure during a simulation under an NPT ensemble')\n",
    "plt.xlabel('Time (ps)')\n",
    "plt.ylabel('Pressure ()')"
   ]
  },
  {
   "cell_type": "markdown",
   "id": "c5ea3b8e-9913-40df-af59-9039bd9830f9",
   "metadata": {},
   "source": [
    "## Part2: Ibuprofen with POPC membrane"
   ]
  },
  {
   "cell_type": "markdown",
   "id": "68c8fad7-7b05-4880-9351-904386ede63a",
   "metadata": {},
   "source": [
    "Next, we will visualize and analyze simulations performed prior to the practical session. We simulate 128-lipid POPC (1-palmitoyl-2-oleoyl-sn-glycero-3-phosphocholine, 16:0/18:1 PC) membrane. This lipid was used in early eukaryote membrane models (see [Marrink et al. (2019)](https://www.doi.org/10.1021/acs.chemrev.8b00460)). \n",
    "\n",
    "The goals of this exercise are to:\n",
    "- Discuss how to build membrane models and other things to consider\n",
    "- Understand how different observables have to be considered before deciding where to start analysis"
   ]
  },
  {
   "cell_type": "code",
   "execution_count": null,
   "id": "f9bd22ec-374c-4bac-ad95-84a41c7f3080",
   "metadata": {},
   "outputs": [],
   "source": [
    "# Move to the working directory for the full ibuprofen simulations\n",
    "current_path = os.getcwd() # get current path\n",
    "dir_path = os.path.dirname(current_path) # parent directory\n",
    "target_path = os.path.join(dir_path, 'memb_ibu_full_simulation') \n",
    "os.chdir(target_path) # move to target path\n",
    "\n",
    "memb_ibu_edr='run_memb_ibu.edr'\n",
    "memb_ibu_tpr='run_memb_ibu.tpr'\n",
    "memb_ibu_xtc='run_memb_ibu.xtc'\n",
    "memb_ibu_gro='run_memb_ibu.gro'"
   ]
  },
  {
   "cell_type": "markdown",
   "id": "37f625f0-710d-4b25-947b-1c5360549b38",
   "metadata": {},
   "source": [
    "Make molecules whole for visualization:"
   ]
  },
  {
   "cell_type": "code",
   "execution_count": null,
   "id": "f48698cc-ce55-4fc3-9d5f-3520e5a709fd",
   "metadata": {},
   "outputs": [],
   "source": [
    "!printf \"0\\n\" | gmx trjconv -s $memb_ibu_tpr -f $memb_ibu_xtc -o memb_ibu_nopbc.xtc -pbc mol -e 100000"
   ]
  },
  {
   "cell_type": "markdown",
   "id": "84a16ef9-0b22-4767-af96-995b27600a80",
   "metadata": {},
   "source": [
    "Let's visualize the trajectory. \n",
    "\n",
    "- What can you observe about the membrane?\n",
    "- What about the ibuprofen?"
   ]
  },
  {
   "cell_type": "code",
   "execution_count": null,
   "id": "1fa31160-6a3c-4477-92d4-6dd7bbb0ce57",
   "metadata": {},
   "outputs": [],
   "source": [
    "traj = md.load('memb_ibu_nopbc.xtc', top=memb_ibu_gro)\n",
    "\n",
    "view = ng.show_mdtraj(traj)\n",
    "view.clear_representations('IBU')\n",
    "\n",
    "view.add_spacefill('IBU', color='orange')\n",
    "\n",
    "view.camera='orthographic'\n",
    "view.add_unitcell()\n",
    "view"
   ]
  },
  {
   "cell_type": "code",
   "execution_count": null,
   "id": "70495144-907b-431f-9e8c-be6557bcdb99",
   "metadata": {},
   "outputs": [],
   "source": [
    "del traj\n",
    "del view"
   ]
  },
  {
   "cell_type": "markdown",
   "id": "e4bce8a8-e11d-489c-ad27-af461adba241",
   "metadata": {},
   "source": [
    "Let's see if we can see some observables converging. We will analyze next \n",
    "- \"Area per lipid\" by dividing the box xy area with the number of lipids on one leaflet. Note: a more precise way of analyzing area per lipid would be through e.g., Voronoi tesselation (see [Lukat et al. (2013)](https://www.doi.org/10.1021/ci400172g)).\n",
    "- Number of contacts within cutoff\n",
    "- Distance between membrane center and ibuprofen\n",
    "\n",
    "I've made analysis.ndx index file for selecting the atom groups for analysis."
   ]
  },
  {
   "cell_type": "code",
   "execution_count": null,
   "id": "dc9f97fa-1856-4b14-9e68-8d250654303c",
   "metadata": {},
   "outputs": [],
   "source": [
    "# Box vectors, xy\n",
    "!printf \"Box-X \\n Box-Y \\n 0 \\n\" | gmx energy -f $memb_ibu_edr -o box_xy.xvg -xvg none -e 100000\n",
    "\n",
    "# Number of contacts within cutoff\n",
    "!printf \"IBU \\n Water \\n\" | gmx mindist -f $memb_ibu_xtc -s $memb_ibu_tpr -n analysis.ndx -on ncontacts_ibu.xvg -xvg none -e 100000\n",
    "\n",
    "# Distance between membrane center and IBU\n",
    "selection=\"com of resname IBU plus com of resname POPC\"\n",
    "!gmx distance -f $memb_ibu_xtc -s $memb_ibu_tpr -n analysis.ndx -oxyz distz.xvg -xvg none -e 100000 -select \"$selection\""
   ]
  },
  {
   "cell_type": "markdown",
   "id": "e6912524-fab2-4558-b41b-4d44c2234855",
   "metadata": {},
   "source": [
    "Plot all three analyses:"
   ]
  },
  {
   "cell_type": "code",
   "execution_count": null,
   "id": "7e7de5fe-9b5d-48f9-b0eb-d7faaf90fe38",
   "metadata": {},
   "outputs": [],
   "source": [
    "def plot_xvg(analysis_type, ax):\n",
    "    \"\"\"\n",
    "    Plot .xvg files\n",
    "    \n",
    "    analysis_type (str): 'distz', 'ncontacts' or 'box_xy' \n",
    "    ax (matplotlib.axes.Axes) = axis to plot on\n",
    "    \"\"\"\n",
    "\n",
    "    # Check if file exists:\n",
    "    \n",
    "    DATA = np.loadtxt(f'{analysis_type}.xvg')\n",
    "\n",
    "    time = DATA[:,0]\n",
    "\n",
    "    if analysis_type == 'distz':\n",
    "        result = DATA[:,3]\n",
    "        title = 'Distance between IBU-com and membrane-com in Z direction'\n",
    "        ylabel = 'Distance (nm)'\n",
    "    elif analysis_type == 'ncontacts_ibu':\n",
    "        result = DATA[:,1]\n",
    "        title = 'Number of contacts between IBU and Water (< 0.6 nm)'\n",
    "        ylabel = 'Number'\n",
    "    elif analysis_type == 'box_xy':\n",
    "        nlipids = 64\n",
    "        result = (DATA[:,1]*DATA[:,2])/nlipids\n",
    "        title = 'Area per lipid'\n",
    "        ylabel = 'Area per lipid ($nm²$)'\n",
    "    else:\n",
    "        raise ValueError('Analysis type must be one of the following: distz, ncontacts, box_xy')\n",
    "\n",
    "    ax.plot(time, result)\n",
    "    ax.set_title(title, weight='bold')\n",
    "    ax.set_xlabel('Time (ps)')\n",
    "    ax.set_ylabel(ylabel)\n",
    "\n",
    "analyses = 'distz', 'ncontacts_ibu', 'box_xy'\n",
    "\n",
    "fig, axs = plt.subplots(3,1, sharex=True)\n",
    "\n",
    "for ax, analysis in zip(axs, analyses):\n",
    "    plot_xvg(analysis, ax)\n",
    "\n",
    "fig.tight_layout()"
   ]
  },
  {
   "cell_type": "markdown",
   "id": "c9ecefde-dcd6-47f9-af54-065b40421229",
   "metadata": {},
   "source": [
    "- Do you think the membrane is converged?\n",
    "- What other analyses could you do to assess whether you can consider the simulation a production run?\n",
    "- Where would you start the analysis?"
   ]
  },
  {
   "cell_type": "markdown",
   "id": "6180b8d9-23f0-42f4-bf9a-2f5ad297b36f",
   "metadata": {},
   "source": [
    "Our final task is to do a mass density analysis. "
   ]
  },
  {
   "cell_type": "code",
   "execution_count": null,
   "id": "d4e174cb-8462-4c75-af79-b92d49d2b8d3",
   "metadata": {},
   "outputs": [],
   "source": [
    "# Mass density\n",
    "!printf \"POPC \\n POPC \\n P \\n IBU \\n Water \\n\" | gmx density -f $memb_ibu_xtc -s $memb_ibu_tpr -n analysis.ndx -o mass_density.xvg -ng 4 -sl 100 -d z -center -b 50000 -e 100000 -xvg none"
   ]
  },
  {
   "cell_type": "code",
   "execution_count": null,
   "id": "4c40a21a-4db5-47e3-8fba-1ff4ab6fc297",
   "metadata": {},
   "outputs": [],
   "source": [
    "DATA = np.loadtxt('mass_density.xvg')\n",
    "\n",
    "atom_groups = 'POPC', 'P', 'IBU', 'Water'\n",
    "colors = 'grey', 'orange', 'red', 'blue'\n",
    "\n",
    "for i, ag in enumerate(atom_groups):\n",
    "    color = colors[i]\n",
    "    distance = DATA[:,0]\n",
    "\n",
    "    if ag != 'IBU':\n",
    "        density = DATA[:,i+1]\n",
    "    else:\n",
    "        density = DATA[:,i+1]*20\n",
    "        ag=f'{ag} x20'\n",
    "\n",
    "    plt.plot(distance, density, color=color, label=ag)\n",
    "\n",
    "plt.legend()\n",
    "plt.title('Partial density')\n",
    "plt.xlabel('z-coordinate (nm)')\n",
    "plt.ylabel('Density ($kgm^{⁻3}$)')"
   ]
  },
  {
   "cell_type": "markdown",
   "id": "a68c8e1c-edc4-4b09-9ad8-24fc4fbba91f",
   "metadata": {},
   "source": [
    "What next?\n",
    "- Doing replicates\n",
    "- Analyzing the effect of ibuprofen concentration\n",
    "- Free energy calculations with e.g. Accelerated Weighted Histogram method --> assessing permeation?"
   ]
  }
 ],
 "metadata": {
  "kernelspec": {
   "display_name": "Python 3 (ipykernel)",
   "language": "python",
   "name": "python3"
  },
  "language_info": {
   "codemirror_mode": {
    "name": "ipython",
    "version": 3
   },
   "file_extension": ".py",
   "mimetype": "text/x-python",
   "name": "python",
   "nbconvert_exporter": "python",
   "pygments_lexer": "ipython3",
   "version": "3.13.2"
  }
 },
 "nbformat": 4,
 "nbformat_minor": 5
}
